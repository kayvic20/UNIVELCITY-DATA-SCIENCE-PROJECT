{
 "cells": [
  {
   "cell_type": "code",
   "execution_count": 1,
   "metadata": {},
   "outputs": [],
   "source": [
    "import pandas as pd \n",
    "import numpy as np\n",
    "import seaborn as sns\n",
    "from sklearn.neighbors import KNeighborsClassifier\n",
    "from sklearn.model_selection import train_test_split\n",
    "from sklearn.metrics import confusion_matrix\n",
    "from sklearn.metrics import accuracy_score\n",
    "from sklearn import preprocessing\n",
    "from sklearn.model_selection import cross_val_score\n",
    "from sklearn.naive_bayes import GaussianNB\n",
    "from sklearn import  svm"
   ]
  },
  {
   "cell_type": "markdown",
   "metadata": {},
   "source": [
    "# THIS IS THE BEGINNING OF THE PROGRAM"
   ]
  },
  {
   "cell_type": "code",
   "execution_count": 2,
   "metadata": {},
   "outputs": [],
   "source": [
    "def KNCANALYSIS():\n",
    "    feat = input(\"Enter columns for data features: \")\n",
    "    data.features = data[feat.split(',')]\n",
    "    tag = input(\"Enter column for data target: \")\n",
    "    data.target = data[tag]\n",
    "    data.features = preprocessing.MinMaxScaler().fit_transform(data.features)\n",
    "    feature_train,feature_test, target_train, target_test = train_test_split(data.features,data.target, test_size=0.3,random_state=1)\n",
    "    model = KNeighborsClassifier(n_neighbors=32)\n",
    "    fittedModel = model.fit(feature_train,target_train)\n",
    "    predictons = fittedModel.predict(feature_test)\n",
    "    accuracysc = accuracy_score(target_test,predictons)\n",
    "    print(f\"Accuracy using KNeigbors Classifier = {accuracysc*100}%\")\n",
    "    return accuracysc\n",
    "def NAIVEBAYESCLASSIFIER():\n",
    "    feat = input(\"Enter columns for data features: \")\n",
    "    data.features = data[feat.split(',')]\n",
    "    tag = input(\"Enter column for data target: \")\n",
    "    data.target = data[tag]\n",
    "    feature_train,feature_test,target_train,target_test = train_test_split(data.features,data.target,test_size=0.3,random_state=1)\n",
    "    model = GaussianNB()\n",
    "    fittedModel = model.fit(feature_train,target_train)\n",
    "    prediction = fittedModel.predict(feature_test)\n",
    "    accuracysc = accuracy_score(target_test,prediction)\n",
    "    print(f\"Accuracy using NAIVE BAYES CLASSIFIER = {accuracysc*100}%\")\n",
    "    return accuracysc\n",
    "def SupportVM():\n",
    "    feat = input(\"Enter columns for data features: \")\n",
    "    data.features = data[feat.split(',')]\n",
    "    tag = input(\"Enter column for data target: \")\n",
    "    data.target = data[tag]\n",
    "    feature_train,feature_test,target_train,target_test = train_test_split(data.features,data.target,test_size=0.3,random_state=1)\n",
    "    model = svm.SVC(gamma=0.001,C=100)\n",
    "    fittedModel = model.fit(feature_train,target_train)\n",
    "    prediction = fittedModel.predict(feature_test)\n",
    "    accuracysc = accuracy_score(target_test,prediction)\n",
    "    print(f\"Accuracy using SUPPORT VECTOR MACHINE = {accuracysc*100}%\")\n",
    "    return accuracysc"
   ]
  },
  {
   "cell_type": "code",
   "execution_count": 13,
   "metadata": {
    "scrolled": true
   },
   "outputs": [
    {
     "name": "stdout",
     "output_type": "stream",
     "text": [
      "Kindly enter datapath: credit_data.csv\n",
      "\n",
      "The columns in your datasets are: \n",
      "\n",
      "Index(['clientid', 'income', 'age', 'loan', 'LTI', 'default'], dtype='object')\n",
      "\n",
      "The Datatypes in your datasets are: \n",
      "\n",
      "clientid      int64\n",
      "income      float64\n",
      "age         float64\n",
      "loan        float64\n",
      "LTI         float64\n",
      "default       int64\n",
      "dtype: object\n",
      "\n",
      "The first 5 columns in your datasets are: \n",
      "\n",
      "Enter columns for data features: income,age,loan\n"
     ]
    },
    {
     "name": "stderr",
     "output_type": "stream",
     "text": [
      "<ipython-input-2-37d6d663bdba>:3: UserWarning: Pandas doesn't allow columns to be created via a new attribute name - see https://pandas.pydata.org/pandas-docs/stable/indexing.html#attribute-access\n",
      "  data.features = data[feat.split(',')]\n"
     ]
    },
    {
     "name": "stdout",
     "output_type": "stream",
     "text": [
      "Enter column for data target: default\n"
     ]
    },
    {
     "name": "stderr",
     "output_type": "stream",
     "text": [
      "<ipython-input-2-37d6d663bdba>:5: UserWarning: Pandas doesn't allow columns to be created via a new attribute name - see https://pandas.pydata.org/pandas-docs/stable/indexing.html#attribute-access\n",
      "  data.target = data[tag]\n"
     ]
    },
    {
     "name": "stdout",
     "output_type": "stream",
     "text": [
      "Accuracy using KNeigbors Classifier = 97.66666666666667%\n",
      "Enter columns for data features: income,age,loan\n",
      "Enter column for data target: default\n",
      "Accuracy using NAIVE BAYES CLASSIFIER = 92.16666666666666%\n",
      "Enter columns for data features: income,age,loan\n",
      "Enter column for data target: default\n",
      "Accuracy using SUPPORT VECTOR MACHINE = 84.16666666666667%\n",
      "\n",
      "\n",
      "Algorithm Rankings\n",
      "97.66666666666667%,KNeigbors Classifier\n",
      "92.16666666666666%,Naive Bayes Classifier\n",
      "84.16666666666667%,Support Vector Machine\n",
      "\n",
      "\n",
      "The best algorithm to use for this dataset is: KNeigbors Classifier\n"
     ]
    }
   ],
   "source": [
    "datapath = input('Kindly enter datapath: ')\n",
    "data = pd.read_csv(datapath)\n",
    "print(\"\\nThe columns in your datasets are: \\n\")\n",
    "print(data.columns)\n",
    "print(\"\\nThe Datatypes in your datasets are: \\n\")\n",
    "print(data.dtypes)\n",
    "print(\"\\nThe first 5 columns in your datasets are: \\n\")\n",
    "data.head()\n",
    "accKNC = KNCANALYSIS()\n",
    "accNBC = NAIVEBAYESCLASSIFIER()\n",
    "accSVM = SupportVM()\n",
    "ACSeries = pd.Series(['KNeigbors Classifier','Naive Bayes Classifier','Support Vector Machine'])\n",
    "ACVal = pd.Series([accKNC,accNBC,accSVM])\n",
    "ACSeries.index = ACVal\n",
    "ACSeries = ACSeries.sort_index(ascending=False)\n",
    "print(\"\\n\\nAlgorithm Rankings\")\n",
    "for index,values in ACSeries.items():\n",
    "    print(f'{index*100}%,{values}')\n",
    "print(\"\\n\")\n",
    "print(f'The best algorithm to use for this dataset is: {ACSeries.values[0]}')\n"
   ]
  },
  {
   "cell_type": "code",
   "execution_count": null,
   "metadata": {},
   "outputs": [],
   "source": []
  }
 ],
 "metadata": {
  "kernelspec": {
   "display_name": "Python 3",
   "language": "python",
   "name": "python3"
  },
  "language_info": {
   "codemirror_mode": {
    "name": "ipython",
    "version": 3
   },
   "file_extension": ".py",
   "mimetype": "text/x-python",
   "name": "python",
   "nbconvert_exporter": "python",
   "pygments_lexer": "ipython3",
   "version": "3.8.3"
  }
 },
 "nbformat": 4,
 "nbformat_minor": 4
}
